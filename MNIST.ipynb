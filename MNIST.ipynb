{
  "nbformat": 4,
  "nbformat_minor": 0,
  "metadata": {
    "colab": {
      "name": "MNIST.ipynb",
      "provenance": [],
      "collapsed_sections": []
    },
    "kernelspec": {
      "name": "python3",
      "display_name": "Python 3"
    }
  },
  "cells": [
    {
      "cell_type": "code",
      "metadata": {
        "id": "xLF9GjZEnI7F",
        "colab_type": "code",
        "outputId": "e71f5bcb-2f63-46fe-c080-875519079673",
        "colab": {
          "base_uri": "https://localhost:8080/",
          "height": 34
        }
      },
      "source": [
        "# IMPORT MODULES\n",
        "\n",
        "import tensorflow as tf\n",
        "from tensorflow import keras\n",
        "from keras.datasets import mnist\n",
        "import numpy as np\n",
        "from matplotlib import pyplot as plt"
      ],
      "execution_count": 1,
      "outputs": [
        {
          "output_type": "stream",
          "text": [
            "Using TensorFlow backend.\n"
          ],
          "name": "stderr"
        }
      ]
    },
    {
      "cell_type": "code",
      "metadata": {
        "id": "3kwapovCnW_V",
        "colab_type": "code",
        "outputId": "fd10d72d-9e93-4103-f568-50b28b0373b7",
        "colab": {
          "base_uri": "https://localhost:8080/",
          "height": 51
        }
      },
      "source": [
        "# LOAD THE MNIST DATA\n",
        "\n",
        "(x_train, y_train), (x_test, y_test) = mnist.load_data()"
      ],
      "execution_count": 2,
      "outputs": [
        {
          "output_type": "stream",
          "text": [
            "Downloading data from https://s3.amazonaws.com/img-datasets/mnist.npz\n",
            "11493376/11490434 [==============================] - 2s 0us/step\n"
          ],
          "name": "stdout"
        }
      ]
    },
    {
      "cell_type": "code",
      "metadata": {
        "id": "Qdh4G3AsnntV",
        "colab_type": "code",
        "outputId": "0f14435b-c35a-43a1-f4b1-d910e6b51678",
        "colab": {
          "base_uri": "https://localhost:8080/",
          "height": 34
        }
      },
      "source": [
        "y_train"
      ],
      "execution_count": 3,
      "outputs": [
        {
          "output_type": "execute_result",
          "data": {
            "text/plain": [
              "array([5, 0, 4, ..., 5, 6, 8], dtype=uint8)"
            ]
          },
          "metadata": {
            "tags": []
          },
          "execution_count": 3
        }
      ]
    },
    {
      "cell_type": "code",
      "metadata": {
        "id": "pJ9RAOXInq91",
        "colab_type": "code",
        "outputId": "8ff7892a-b689-4c47-ef8b-f842f5166ae0",
        "colab": {
          "base_uri": "https://localhost:8080/",
          "height": 34
        }
      },
      "source": [
        "x_train.shape"
      ],
      "execution_count": 4,
      "outputs": [
        {
          "output_type": "execute_result",
          "data": {
            "text/plain": [
              "(60000, 28, 28)"
            ]
          },
          "metadata": {
            "tags": []
          },
          "execution_count": 4
        }
      ]
    },
    {
      "cell_type": "code",
      "metadata": {
        "id": "NGCRx0dWnttl",
        "colab_type": "code",
        "colab": {}
      },
      "source": [
        "# NORMALIZATION: CONVERTING PIXELS OF RANGE O TO 255, TO RANGE OF 0 TO 1\n",
        "\n",
        "x_train = x_train / 255\n",
        "x_test = x_test / 255 "
      ],
      "execution_count": 0,
      "outputs": []
    },
    {
      "cell_type": "code",
      "metadata": {
        "id": "5a9cpwWPnxd-",
        "colab_type": "code",
        "outputId": "9b2d478b-c27b-44d0-b6e9-fcf6304db588",
        "colab": {
          "base_uri": "https://localhost:8080/",
          "height": 265
        }
      },
      "source": [
        "# SAMPLE; RANDOM IMAGE FROM TRAIN IMAGES (x_train)\n",
        "\n",
        "plt.imshow(x_train[2])\n",
        "plt.show()"
      ],
      "execution_count": 6,
      "outputs": [
        {
          "output_type": "display_data",
          "data": {
            "image/png": "[encoded data removed]",
            "text/plain": [
              "<Figure size 432x288 with 1 Axes>"
            ]
          },
          "metadata": {
            "tags": [],
            "needs_background": "light"
          }
        }
      ]
    },
    {
      "cell_type": "code",
      "metadata": {
        "id": "kJOk6LpSn1L7",
        "colab_type": "code",
        "colab": {}
      },
      "source": [
        "# CREATING MODEL\n",
        "\n",
        "model = tf.keras.Sequential([\n",
        "                             keras.layers.Flatten(input_shape=(28,28)),\n",
        "                             keras.layers.Dense(128, activation='relu'),\n",
        "                             keras.layers.Dense(10)])"
      ],
      "execution_count": 0,
      "outputs": []
    },
    {
      "cell_type": "code",
      "metadata": {
        "id": "qBQMNmUfoimF",
        "colab_type": "code",
        "colab": {}
      },
      "source": [
        "# ADDING OPTIMIZER, DEALING WITH LOSSES AND ADDING METRICS\n",
        "\n",
        "model.compile(optimizer='adam',\n",
        "              loss=tf.keras.losses.SparseCategoricalCrossentropy(from_logits=True),\n",
        "              metrics=['accuracy'])"
      ],
      "execution_count": 0,
      "outputs": []
    },
    {
      "cell_type": "code",
      "metadata": {
        "id": "OJZ0Dk_goyVg",
        "colab_type": "code",
        "outputId": "dcf5a313-9b70-46e8-d1a9-523270ba66a0",
        "colab": {
          "base_uri": "https://localhost:8080/",
          "height": 340
        }
      },
      "source": [
        "# TRAINING MODEL\n",
        "\n",
        "model.fit(x_train, y_train, epochs=10)"
      ],
      "execution_count": 9,
      "outputs": [
        {
          "output_type": "stream",
          "text": [
            "Epoch 1/10\n",
            "1875/1875 [==============================] - 3s 2ms/step - loss: 0.1103 - accuracy: 0.9675\n",
            "Epoch 3/10\n",
            "1875/1875 [==============================] - 3s 2ms/step - loss: 0.0766 - accuracy: 0.9766\n",
            "Epoch 4/10\n",
            "1875/1875 [==============================] - 3s 2ms/step - loss: 0.0569 - accuracy: 0.9823\n",
            "Epoch 5/10\n",
            "1875/1875 [==============================] - 3s 2ms/step - loss: 0.0435 - accuracy: 0.9865\n",
            "Epoch 6/10\n",
            "1875/1875 [==============================] - 3s 2ms/step - loss: 0.0341 - accuracy: 0.9898\n",
            "Epoch 7/10\n",
            "1875/1875 [==============================] - 3s 2ms/step - loss: 0.0279 - accuracy: 0.9912\n",
            "Epoch 8/10\n",
            "1875/1875 [==============================] - 3s 2ms/step - loss: 0.0218 - accuracy: 0.9935\n",
            "Epoch 9/10\n",
            "1875/1875 [==============================] - 3s 2ms/step - loss: 0.0182 - accuracy: 0.9945\n",
            "Epoch 10/10\n",
            "1875/1875 [==============================] - 3s 2ms/step - loss: 0.0161 - accuracy: 0.9948\n"
          ],
          "name": "stdout"
        },
        {
          "output_type": "execute_result",
          "data": {
            "text/plain": [
              "<tensorflow.python.keras.callbacks.History at 0x7f2a9bd49cc0>"
            ]
          },
          "metadata": {
            "tags": []
          },
          "execution_count": 9
        }
      ]
    },
    {
      "cell_type": "code",
      "metadata": {
        "id": "iFGlxFU4o35v",
        "colab_type": "code",
        "outputId": "5eab5cd7-51a5-42c2-d261-f2364eb80b48",
        "colab": {
          "base_uri": "https://localhost:8080/",
          "height": 51
        }
      },
      "source": [
        "(test_loss, test_accuracy) = model.evaluate(x_test, y_test, verbose=2)\n",
        "print(test_accuracy * 100) # RETURN AS PERCENTAGE ON 100 AND NOT DECIMAL"
      ],
      "execution_count": 10,
      "outputs": [
        {
          "output_type": "stream",
          "text": [
            "313/313 - 0s - loss: 0.0806 - accuracy: 0.9776\n",
            "97.75999784469604\n"
          ],
          "name": "stdout"
        }
      ]
    },
    {
      "cell_type": "code",
      "metadata": {
        "id": "qEOHLcdcpHoM",
        "colab_type": "code",
        "colab": {}
      },
      "source": [
        "# CREATE PROBABILITY MODEL WITH SOFTMAX TO DEAL WITH OUTLIER DATA\n",
        "\n",
        "probability_model = tf.keras.Sequential([model, tf.keras.layers.Softmax()]) "
      ],
      "execution_count": 0,
      "outputs": []
    },
    {
      "cell_type": "code",
      "metadata": {
        "id": "mbvHB4-DpmFR",
        "colab_type": "code",
        "colab": {}
      },
      "source": [
        "# PREDICTING FROM PROBABILITY MODEL\n",
        "\n",
        "predictions = probability_model.predict(x_test)"
      ],
      "execution_count": 0,
      "outputs": []
    },
    {
      "cell_type": "code",
      "metadata": {
        "id": "zB8Lgx46pvcl",
        "colab_type": "code",
        "outputId": "b64ef77a-2f71-4075-e435-fbca2e3baba3",
        "colab": {
          "base_uri": "https://localhost:8080/",
          "height": 68
        }
      },
      "source": [
        "predictions[0]"
      ],
      "execution_count": 13,
      "outputs": [
        {
          "output_type": "execute_result",
          "data": {
            "text/plain": [
              "array([3.6184989e-12, 1.9503767e-13, 2.1557238e-08, 2.6237221e-06,\n",
              "       9.0634362e-14, 1.1844666e-10, 8.7535784e-13, 9.9999738e-01,\n",
              "       9.0087805e-11, 6.1040053e-09], dtype=float32)"
            ]
          },
          "metadata": {
            "tags": []
          },
          "execution_count": 13
        }
      ]
    },
    {
      "cell_type": "code",
      "metadata": {
        "id": "loegPvMwpyCX",
        "colab_type": "code",
        "outputId": "5906255a-3b86-4244-ecd3-ec6efcae1a13",
        "colab": {
          "base_uri": "https://localhost:8080/",
          "height": 34
        }
      },
      "source": [
        "# np.argmax() USED TO RETURN INDEX OF MOST CONFIDENT PREDICTION (HERE, THE NUMBER IT HAS PREDICTED) \n",
        "\n",
        "np.argmax(predictions[0])"
      ],
      "execution_count": 14,
      "outputs": [
        {
          "output_type": "execute_result",
          "data": {
            "text/plain": [
              "7"
            ]
          },
          "metadata": {
            "tags": []
          },
          "execution_count": 14
        }
      ]
    },
    {
      "cell_type": "code",
      "metadata": {
        "id": "wxo6o9kTp3U1",
        "colab_type": "code",
        "colab": {
          "base_uri": "https://localhost:8080/",
          "height": 265
        },
        "outputId": "c5d19251-5b3e-4148-9e0c-ab63e3a81fcd"
      },
      "source": [
        "# EXTRA; PLOTTING THE IMAGE THAT HAS JUST BEEN PREDICTED\n",
        "\n",
        "plt.imshow(x_test[0])\n",
        "plt.show()"
      ],
      "execution_count": 15,
      "outputs": [
        {
          "output_type": "display_data",
          "data": {
            "image/png": "[encoded data removed]",
            "text/plain": [
              "<Figure size 432x288 with 1 Axes>"
            ]
          },
          "metadata": {
            "tags": [],
            "needs_background": "light"
          }
        }
      ]
    },
    {
      "cell_type": "code",
      "metadata": {
        "id": "pwLUl7CFDgec",
        "colab_type": "code",
        "colab": {}
      },
      "source": [
        ""
      ],
      "execution_count": 0,
      "outputs": []
    }
  ]
}